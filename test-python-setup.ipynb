{
 "cells": [
  {
   "cell_type": "markdown",
   "metadata": {},
   "source": [
    "# 1. Test your Python setup\n",
    "\n",
    "You have successfully installed Python and Jupyter! Now you can run your first Python code.\n",
    "\n",
    "- Replace `YOUR_NAME` in the cell below, then hit `<SHIFT> + <ENTER>`:"
   ]
  },
  {
   "cell_type": "code",
   "execution_count": null,
   "metadata": {},
   "outputs": [],
   "source": [
    "name = \"YOUR_NAME\"\n",
    "print(\"Hello {}! 👋\".format(name))"
   ]
  },
  {
   "cell_type": "markdown",
   "metadata": {},
   "source": [
    "- Let's plot a nice and simple sinusoid:"
   ]
  },
  {
   "cell_type": "code",
   "execution_count": null,
   "metadata": {},
   "outputs": [],
   "source": [
    "# Import the plotting package\n",
    "%matplotlib inline\n",
    "import matplotlib.pyplot as plt\n",
    "# Import the numerics package\n",
    "import numpy as np"
   ]
  },
  {
   "cell_type": "code",
   "execution_count": null,
   "metadata": {},
   "outputs": [],
   "source": [
    "# Plot a sinusoid\n",
    "x = np.linspace(0, 2 * np.pi, 100)\n",
    "plt.plot(x, np.sin(x))"
   ]
  },
  {
   "cell_type": "markdown",
   "metadata": {},
   "source": [
    "# 2. Test the LIGO packages"
   ]
  },
  {
   "cell_type": "markdown",
   "metadata": {},
   "source": [
    "In our gravitational wave data analysis tutorials we will work with LIGO software. Before installing these packages, make sure you are running this notebook in a Python 2 environment (visible in the top right corner). Then install the packages by running the following cell. You will only need to do this once."
   ]
  },
  {
   "cell_type": "code",
   "execution_count": null,
   "metadata": {
    "scrolled": true
   },
   "outputs": [],
   "source": [
    "!pip install lalsuite pycbc"
   ]
  },
  {
   "cell_type": "markdown",
   "metadata": {},
   "source": [
    "After installing these packages, you may have to restart the Python kernel. To do that, in the menu bar select `Kernel` > `Restart Kernel...`."
   ]
  },
  {
   "cell_type": "markdown",
   "metadata": {},
   "source": [
    "Now that we have the LIGO software installed, we can have a first look at the data we are going to work with. Run the following cell. This is the data of the first gravitational wave detection on September 14th, 2015. Can you spot the gravitational wave event in the noise?"
   ]
  },
  {
   "cell_type": "code",
   "execution_count": null,
   "metadata": {},
   "outputs": [],
   "source": [
    "from pycbc import catalog\n",
    "\n",
    "first_gw_event = catalog.Merger(\"GW150914\")\n",
    "strain_livingston = first_gw_event.strain('L1')\n",
    "strain_hanford = first_gw_event.strain('H1')\n",
    "\n",
    "%matplotlib inline\n",
    "import matplotlib.pyplot as plt\n",
    "plt.plot(strain_livingston.sample_times, strain_livingston, label=\"GW strain at Livingston\")\n",
    "plt.plot(strain_hanford.sample_times, strain_hanford, label=\"GW strain at Hanford\")\n",
    "plt.xlabel('Time')\n",
    "plt.ylabel('Gravitational wave strain $h$')\n",
    "plt.legend();"
   ]
  }
 ],
 "metadata": {
  "kernelspec": {
   "display_name": "Python 2",
   "language": "python",
   "name": "python2"
  },
  "language_info": {
   "codemirror_mode": {
    "name": "ipython",
    "version": 2
   },
   "file_extension": ".py",
   "mimetype": "text/x-python",
   "name": "python",
   "nbconvert_exporter": "python",
   "pygments_lexer": "ipython2",
   "version": "2.7.15"
  }
 },
 "nbformat": 4,
 "nbformat_minor": 2
}
